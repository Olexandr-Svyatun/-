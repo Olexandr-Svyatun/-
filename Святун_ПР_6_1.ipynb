{
  "cells": [
    {
      "cell_type": "code",
      "execution_count": null,
      "metadata": {
        "id": "H8raaUGFRlix"
      },
      "outputs": [],
      "source": [
        "#1.Завантажити набір даних Iris з бібліотеки scikit-learn.\n",
        "from sklearn import datasets\n",
        "\n",
        "iris = datasets.load_iris()\n",
        "X = iris.data\n",
        "y = iris.target"
      ]
    },
    {
      "cell_type": "code",
      "execution_count": null,
      "metadata": {
        "id": "FsdFWI1tRqaL"
      },
      "outputs": [],
      "source": [
        "#2.Розділити дані на тренувальний та тестовий набори.\n",
        "from sklearn.model_selection import train_test_split\n",
        "X_train, X_test, y_train, y_test = train_test_split(X, y, test_size=0.2, random_state=42)"
      ]
    },
    {
      "cell_type": "code",
      "execution_count": 18,
      "metadata": {
        "colab": {
          "base_uri": "https://localhost:8080/"
        },
        "id": "DKmNnqHcRtEm",
        "outputId": "61945a9a-c87c-44d6-b4c7-983907923b2a"
      },
      "outputs": [
        {
          "name": "stdout",
          "output_type": "stream",
          "text": [
            "Точність SVM: 100.00%\n",
            "              precision    recall  f1-score   support\n",
            "\n",
            "           0       1.00      1.00      1.00        10\n",
            "           1       1.00      1.00      1.00         9\n",
            "           2       1.00      1.00      1.00        11\n",
            "\n",
            "    accuracy                           1.00        30\n",
            "   macro avg       1.00      1.00      1.00        30\n",
            "weighted avg       1.00      1.00      1.00        30\n",
            "\n"
          ]
        }
      ],
      "source": [
        "#3.Застосувати алгоритм SVM для класифікації даних та визначити його точність.\n",
        "from sklearn.svm import SVC\n",
        "from sklearn.metrics import accuracy_score, classification_report\n",
        "svm_classifier = SVC(kernel='linear', C=1.0, random_state=42)\n",
        "svm_classifier.fit(X_train, y_train)\n",
        "svm_predictions = svm_classifier.predict(X_test)\n",
        "svm_accuracy = accuracy_score(y_test, svm_predictions)\n",
        "print(\"Точність SVM: {:.2f}%\".format(svm_accuracy * 100))\n",
        "print(classification_report(y_test, svm_predictions))\n"
      ]
    },
    {
      "cell_type": "code",
      "execution_count": 17,
      "metadata": {
        "colab": {
          "base_uri": "https://localhost:8080/"
        },
        "id": "VKLModO6Rx5m",
        "outputId": "168555db-becc-463d-9034-641dc3a86211"
      },
      "outputs": [
        {
          "name": "stdout",
          "output_type": "stream",
          "text": [
            "Точність Random Forest: 100.00%\n",
            "              precision    recall  f1-score   support\n",
            "\n",
            "           0       1.00      1.00      1.00        10\n",
            "           1       1.00      1.00      1.00         9\n",
            "           2       1.00      1.00      1.00        11\n",
            "\n",
            "    accuracy                           1.00        30\n",
            "   macro avg       1.00      1.00      1.00        30\n",
            "weighted avg       1.00      1.00      1.00        30\n",
            "\n"
          ]
        }
      ],
      "source": [
        "#4.Застосувати Random Forest для класифікації даних та визначити його точність.\n",
        "from sklearn.ensemble import RandomForestClassifier\n",
        "from sklearn.metrics import accuracy_score, classification_report\n",
        "rf_classifier = RandomForestClassifier(n_estimators=100, random_state=42)\n",
        "rf_classifier.fit(X_train, y_train)\n",
        "\n",
        "rf_predictions = rf_classifier.predict(X_test)\n",
        "\n",
        "# Оцінка моделі Random Forest\n",
        "rf_accuracy = accuracy_score(y_test, rf_predictions)\n",
        "print(\"Точність Random Forest: {:.2f}%\".format(rf_accuracy * 100))\n",
        "print(classification_report(y_test, rf_predictions))\n"
      ]
    },
    {
      "cell_type": "code",
      "execution_count": 16,
      "metadata": {
        "colab": {
          "base_uri": "https://localhost:8080/"
        },
        "id": "6aahxYNFVVOO",
        "outputId": "df05de55-5f07-4986-b3c0-a84658b6674b"
      },
      "outputs": [
        {
          "name": "stdout",
          "output_type": "stream",
          "text": [
            "Точність SVM: 100.00%\n",
            "Точність Random Forest: 100.00%\n"
          ]
        }
      ],
      "source": [
        "#5.Порівняти результати обох алгоритмів та обговорити їхню ефективність.\n",
        "print(\"Точність SVM: {:.2f}%\".format(svm_accuracy * 100))\n",
        "print(\"Точність Random Forest: {:.2f}%\".format(rf_accuracy * 100))"
      ]
    },
    {
      "cell_type": "markdown",
      "metadata": {
        "id": "b1wLQtDMSfDD"
      },
      "source": [
        "Висновок:\n",
        "\n",
        "Обидва методи показали високу точність, SVM та Random Forest показали схожу точність, що означає що обидва є актуальними та користувача або виконавець може обрати той,  який краще підходить для конкретної задачі, враховуючи інші фактори, такі як час навчання моделі та інтерпретованість результатів.\n"
      ]
    }
  ],
  "metadata": {
    "colab": {
      "provenance": []
    },
    "kernelspec": {
      "display_name": "Python 3",
      "name": "python3"
    },
    "language_info": {
      "codemirror_mode": {
        "name": "ipython",
        "version": 3
      },
      "file_extension": ".py",
      "mimetype": "text/x-python",
      "name": "python",
      "nbconvert_exporter": "python",
      "pygments_lexer": "ipython3",
      "version": "3.12.0"
    }
  },
  "nbformat": 4,
  "nbformat_minor": 0
}
